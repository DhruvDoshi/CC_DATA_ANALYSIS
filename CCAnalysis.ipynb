{
 "cells": [
  {
   "cell_type": "code",
   "execution_count": 1,
   "id": "496988da",
   "metadata": {
    "_cell_guid": "b1076dfc-b9ad-4769-8c92-a6c4dae69d19",
    "_uuid": "8f2839f25d086af736a60e9eeb907d3b93b6e0e5",
    "execution": {
     "iopub.execute_input": "2024-05-12T02:31:24.403764Z",
     "iopub.status.busy": "2024-05-12T02:31:24.403176Z",
     "iopub.status.idle": "2024-05-12T02:31:25.130922Z",
     "shell.execute_reply": "2024-05-12T02:31:25.129792Z"
    },
    "papermill": {
     "duration": 0.734105,
     "end_time": "2024-05-12T02:31:25.133079",
     "exception": false,
     "start_time": "2024-05-12T02:31:24.398974",
     "status": "completed"
    },
    "tags": []
   },
   "outputs": [],
   "source": [
    "# Importing Packages\n",
    "import pandas as pd"
   ]
  },
  {
   "cell_type": "code",
   "execution_count": 2,
   "id": "1ea9e122",
   "metadata": {
    "execution": {
     "iopub.execute_input": "2024-05-12T02:31:25.138112Z",
     "iopub.status.busy": "2024-05-12T02:31:25.137698Z",
     "iopub.status.idle": "2024-05-12T02:31:25.199564Z",
     "shell.execute_reply": "2024-05-12T02:31:25.198298Z"
    },
    "papermill": {
     "duration": 0.06665,
     "end_time": "2024-05-12T02:31:25.201666",
     "exception": false,
     "start_time": "2024-05-12T02:31:25.135016",
     "status": "completed"
    },
    "tags": []
   },
   "outputs": [],
   "source": [
    "## Import datasets from Kaggle\n",
    "# df = pd.read_csv('/kaggle/input/credit-card-transactions/credit_card_transactions-ibm_v2.csv')\n",
    "# user = pd.read_csv('/kaggle/input/credit-card-transactions/sd254_users.csv')\n",
    "# card = pd.read_csv('/kaggle/input/credit-card-transactions/sd254_cards.csv')\n",
    "df = pd.read_csv('/kaggle/input/credit-card-transactions/User0_credit_card_transactions.csv')"
   ]
  },
  {
   "cell_type": "code",
   "execution_count": 3,
   "id": "180bc442",
   "metadata": {
    "execution": {
     "iopub.execute_input": "2024-05-12T02:31:25.206300Z",
     "iopub.status.busy": "2024-05-12T02:31:25.205988Z",
     "iopub.status.idle": "2024-05-12T02:31:25.261902Z",
     "shell.execute_reply": "2024-05-12T02:31:25.261083Z"
    },
    "papermill": {
     "duration": 0.060592,
     "end_time": "2024-05-12T02:31:25.264072",
     "exception": false,
     "start_time": "2024-05-12T02:31:25.203480",
     "status": "completed"
    },
    "tags": []
   },
   "outputs": [],
   "source": [
    "# Assuming your DataFrame is named df\n",
    "# Convert 'Amount' column to numeric format\n",
    "df['Amount'] = df['Amount'].replace('[\\$,]', '', regex=True).astype(float)\n",
    "\n",
    "# Group transactions by merchant name and sum the amounts\n",
    "grouped_transactions = df.groupby('Merchant Name')['Amount'].sum().reset_index()\n",
    "\n",
    "# Rename the columns for clarity\n",
    "grouped_transactions.columns = ['Merchant Name', 'Total Amount Spent']\n",
    "\n",
    "# Create a new DataFrame\n",
    "new_df = pd.DataFrame(grouped_transactions)\n",
    "\n",
    "# Rename the merchants to series of names\n",
    "unique_merchants = new_df['Merchant Name'].unique()\n",
    "new_df['Merchant Name'] = new_df['Merchant Name'].apply(lambda x: f'Merchant{list(unique_merchants).index(x) + 1}')\n",
    "\n"
   ]
  },
  {
   "cell_type": "code",
   "execution_count": 4,
   "id": "a2e9d514",
   "metadata": {
    "execution": {
     "iopub.execute_input": "2024-05-12T02:31:25.268530Z",
     "iopub.status.busy": "2024-05-12T02:31:25.268244Z",
     "iopub.status.idle": "2024-05-12T02:31:25.286182Z",
     "shell.execute_reply": "2024-05-12T02:31:25.285134Z"
    },
    "papermill": {
     "duration": 0.022575,
     "end_time": "2024-05-12T02:31:25.288467",
     "exception": false,
     "start_time": "2024-05-12T02:31:25.265892",
     "status": "completed"
    },
    "tags": []
   },
   "outputs": [
    {
     "data": {
      "text/html": [
       "<div>\n",
       "<style scoped>\n",
       "    .dataframe tbody tr th:only-of-type {\n",
       "        vertical-align: middle;\n",
       "    }\n",
       "\n",
       "    .dataframe tbody tr th {\n",
       "        vertical-align: top;\n",
       "    }\n",
       "\n",
       "    .dataframe thead th {\n",
       "        text-align: right;\n",
       "    }\n",
       "</style>\n",
       "<table border=\"1\" class=\"dataframe\">\n",
       "  <thead>\n",
       "    <tr style=\"text-align: right;\">\n",
       "      <th></th>\n",
       "      <th>Merchant Name</th>\n",
       "      <th>Total Amount Spent</th>\n",
       "    </tr>\n",
       "  </thead>\n",
       "  <tbody>\n",
       "    <tr>\n",
       "      <th>0</th>\n",
       "      <td>Merchant1</td>\n",
       "      <td>83.87</td>\n",
       "    </tr>\n",
       "    <tr>\n",
       "      <th>1</th>\n",
       "      <td>Merchant2</td>\n",
       "      <td>27098.28</td>\n",
       "    </tr>\n",
       "    <tr>\n",
       "      <th>2</th>\n",
       "      <td>Merchant3</td>\n",
       "      <td>71.93</td>\n",
       "    </tr>\n",
       "    <tr>\n",
       "      <th>3</th>\n",
       "      <td>Merchant4</td>\n",
       "      <td>10.25</td>\n",
       "    </tr>\n",
       "    <tr>\n",
       "      <th>4</th>\n",
       "      <td>Merchant5</td>\n",
       "      <td>4013.77</td>\n",
       "    </tr>\n",
       "    <tr>\n",
       "      <th>...</th>\n",
       "      <td>...</td>\n",
       "      <td>...</td>\n",
       "    </tr>\n",
       "    <tr>\n",
       "      <th>547</th>\n",
       "      <td>Merchant548</td>\n",
       "      <td>25.76</td>\n",
       "    </tr>\n",
       "    <tr>\n",
       "      <th>548</th>\n",
       "      <td>Merchant549</td>\n",
       "      <td>50.55</td>\n",
       "    </tr>\n",
       "    <tr>\n",
       "      <th>549</th>\n",
       "      <td>Merchant550</td>\n",
       "      <td>1729.13</td>\n",
       "    </tr>\n",
       "    <tr>\n",
       "      <th>550</th>\n",
       "      <td>Merchant551</td>\n",
       "      <td>703.91</td>\n",
       "    </tr>\n",
       "    <tr>\n",
       "      <th>551</th>\n",
       "      <td>Merchant552</td>\n",
       "      <td>638.87</td>\n",
       "    </tr>\n",
       "  </tbody>\n",
       "</table>\n",
       "<p>552 rows × 2 columns</p>\n",
       "</div>"
      ],
      "text/plain": [
       "    Merchant Name  Total Amount Spent\n",
       "0       Merchant1               83.87\n",
       "1       Merchant2            27098.28\n",
       "2       Merchant3               71.93\n",
       "3       Merchant4               10.25\n",
       "4       Merchant5             4013.77\n",
       "..            ...                 ...\n",
       "547   Merchant548               25.76\n",
       "548   Merchant549               50.55\n",
       "549   Merchant550             1729.13\n",
       "550   Merchant551              703.91\n",
       "551   Merchant552              638.87\n",
       "\n",
       "[552 rows x 2 columns]"
      ]
     },
     "execution_count": 4,
     "metadata": {},
     "output_type": "execute_result"
    }
   ],
   "source": [
    "new_df"
   ]
  }
 ],
 "metadata": {
  "kaggle": {
   "accelerator": "none",
   "dataSources": [
    {
     "datasetId": 1478095,
     "sourceId": 2705785,
     "sourceType": "datasetVersion"
    }
   ],
   "dockerImageVersionId": 30698,
   "isGpuEnabled": false,
   "isInternetEnabled": false,
   "language": "python",
   "sourceType": "notebook"
  },
  "kernelspec": {
   "display_name": "Python 3",
   "language": "python",
   "name": "python3"
  },
  "language_info": {
   "codemirror_mode": {
    "name": "ipython",
    "version": 3
   },
   "file_extension": ".py",
   "mimetype": "text/x-python",
   "name": "python",
   "nbconvert_exporter": "python",
   "pygments_lexer": "ipython3",
   "version": "3.10.13"
  },
  "papermill": {
   "default_parameters": {},
   "duration": 3.803396,
   "end_time": "2024-05-12T02:31:25.608846",
   "environment_variables": {},
   "exception": null,
   "input_path": "__notebook__.ipynb",
   "output_path": "__notebook__.ipynb",
   "parameters": {},
   "start_time": "2024-05-12T02:31:21.805450",
   "version": "2.5.0"
  }
 },
 "nbformat": 4,
 "nbformat_minor": 5
}
